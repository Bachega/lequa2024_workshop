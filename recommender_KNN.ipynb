{
  "cells": [
    {
      "cell_type": "markdown",
      "metadata": {
        "id": "Mq8fYR6NY_7_"
      },
      "source": [
        "# init"
      ]
    },
    {
      "cell_type": "code",
      "execution_count": null,
      "metadata": {
        "colab": {
          "base_uri": "https://localhost:8080/"
        },
        "id": "pmUgYPsj0Tw-",
        "outputId": "ae3e58b5-9821-4a9b-d5d9-a9d6191f532b"
      },
      "outputs": [],
      "source": [
        "import os\n",
        "import numpy as np\n",
        "import pandas as pd\n",
        "import matplotlib.pyplot as plt\n",
        "from scipy.io.arff import loadarff\n",
        "from pymfe.mfe import MFE\n",
        "from sklearn.datasets import load_iris\n",
        "from sklearn.model_selection import train_test_split\n",
        "from sklearn.model_selection import StratifiedKFold\n",
        "from sklearn.ensemble import RandomForestClassifier\n",
        "from sklearn.ensemble import RandomForestRegressor\n",
        "from sklearn.neighbors import NearestNeighbors\n",
        "from sklearn import svm\n",
        "import sklearn.metrics as skm\n",
        "from sklearn import metrics\n",
        "import pdb\n",
        "import random\n",
        "\n",
        "stdTable = \"./data/recommender/std-table.csv\"\n",
        "path_arff = \"./data/datasets/arff/\"\n",
        "path_index = \"./data/index/arff/\"\n",
        "# files_arff = os.listdir(path_arff)\n",
        "\n",
        "path = \"./data/experimento/datasets/selected/cleaned/\"\n",
        "tablePath = savePath = \"./data/recommender/meta-features.csv\"\n",
        "\n",
        "metaTablePath = \"./metafeatures/meta-table.csv\"\n",
        "\n",
        "ccTable = \"./metafeatures/meta-table-CC.csv\"\n",
        "accTable = \"./metafeatures/meta-table-ACC.csv\"\n",
        "smmTable = \"./metafeatures/meta-table-SMM.csv\"\n",
        "hdyTable = \"./metafeatures/meta-table-HDy.csv\"\n",
        "dysTable = \"./metafeatures/meta-table-DyS.csv\"\n",
        "sordTable = \"./metafeatures/meta-table-SORD.csv\"\n",
        "msTable = \"./metafeatures/meta-table-MS.csv\"\n",
        "# ms2Table = \"./metafeatures/meta-table-MS2.csv\"\n",
        "maxTable = \"./metafeatures/meta-table-MAX.csv\"\n",
        "xTable = \"./metafeatures/meta-table-X.csv\"\n",
        "t50Table = \"./metafeatures/meta-table-T50.csv\"\n",
        "\n",
        "algList = [\"CC\",\"ACC\",\"SMM\",\"HDy\",\"DyS\",\"SORD\",\"MS\",\"MAX\",\"X\",\"T50\"]\n",
        "pathList = [ccTable, accTable, smmTable, hdyTable, dysTable, sordTable, msTable, maxTable, xTable, t50Table]\n",
        "\n",
        "datasets_path = './datasets/'\n",
        "files = os.listdir(datasets_path)"
      ]
    },
    {
      "cell_type": "markdown",
      "metadata": {
        "id": "eHUI9P42ZC5o"
      },
      "source": [
        "# preprocess"
      ]
    },
    {
      "cell_type": "code",
      "execution_count": null,
      "metadata": {},
      "outputs": [],
      "source": [
        "meta_table = pd.read_csv(metaTablePath)\n",
        "arr_table = meta_table.drop(columns=meta_table.columns.tolist()[110::-1])\n",
        "meta_table.drop(columns=meta_table.columns.tolist()[111::], inplace=True)\n",
        "X = meta_table.values"
      ]
    },
    {
      "cell_type": "code",
      "execution_count": null,
      "metadata": {},
      "outputs": [],
      "source": [
        "# alg_list = ['arr_PACC', 'arr_PCC', 'arr_MS2']\n",
        "# arr_table.drop(columns=alg_list, inplace=True) \n",
        "arr_table"
      ]
    },
    {
      "cell_type": "code",
      "execution_count": null,
      "metadata": {},
      "outputs": [],
      "source": [
        "instance_len = len(X)\n",
        "knn = NearestNeighbors(n_neighbors=11)\n",
        "ranking_table = pd.DataFrame(columns=arr_table.columns)\n",
        "\n",
        "for i in range(0, instance_len):\n",
        "   X_train = np.delete(X, i, 0)\n",
        "   X_test = [X[i]]\n",
        "\n",
        "   knn.fit(X_train)\n",
        "   neighbors = knn.kneighbors(X=X_test)\n",
        "   \n",
        "   dt = 0\n",
        "   for dist in neighbors[0].tolist()[0]:\n",
        "      if dist == 0.0: ################################## GAMBIARRA ABSURDA -> CORRIGIR DEPOIS\n",
        "         dist = 0.0000000000000001\n",
        "      dt += (1 / dist)\n",
        "\n",
        "   weight_list = []\n",
        "   for dist in neighbors[0].tolist()[0]:\n",
        "      if dist == 0.0: ################################## GAMBIARRA ABSURDA -> CORRIGIR DEPOIS\n",
        "         dist = 0.0000000000000001\n",
        "      weight_list.append((1 / dist) / dt)\n",
        "\n",
        "\n",
        "   arr_list = [0] * len(arr_table.columns)\n",
        "   weight_list_index = 0\n",
        "   for neighbor in neighbors[1].tolist()[0]:\n",
        "\n",
        "      arr_list_index = 0\n",
        "      for arr in arr_table.loc[neighbor].tolist():\n",
        "         arr_list[arr_list_index] += weight_list[weight_list_index] * arr\n",
        "         arr_list_index += 1\n",
        "      \n",
        "      weight_list_index += 1\n",
        "   \n",
        "   ranking_table.loc[len(ranking_table.index)] = arr_list\n",
        "\n",
        "ranking_table"
      ]
    },
    {
      "cell_type": "markdown",
      "metadata": {},
      "source": [
        "# experiment"
      ]
    },
    {
      "cell_type": "markdown",
      "metadata": {},
      "source": [
        "## Primeiro algoritmo recomendado está presente no conjunto dos ideias (por Top N)"
      ]
    },
    {
      "cell_type": "code",
      "execution_count": null,
      "metadata": {},
      "outputs": [],
      "source": [
        "top = 3\n",
        "\n",
        "hit = 0\n",
        "for i in range(0, len(arr_table)):\n",
        "    true_dict = {}\n",
        "    j = 0\n",
        "    true_arr_values = arr_table.loc[i].tolist()\n",
        "    for column in arr_table.columns.tolist():\n",
        "        true_dict[column] = true_arr_values[j]\n",
        "        j += 1\n",
        "    true_dict = sorted(true_dict.items(), key=lambda x:x[1], reverse=True)\n",
        "\n",
        "\n",
        "    pred_dict = {}\n",
        "    j = 0\n",
        "    pred_arr_values = ranking_table.loc[i].tolist()\n",
        "    for column in ranking_table.columns.tolist():\n",
        "        pred_dict[column] = pred_arr_values[j]\n",
        "        j += 1\n",
        "    pred_dict = sorted(pred_dict.items(), key=lambda x:x[1], reverse=True)\n",
        "\n",
        "    for top_index in range(0, top):\n",
        "        if pred_dict[0][0] == true_dict[top_index][0]:\n",
        "            hit += 1\n",
        "            break\n",
        "\n",
        "acc = hit / len(arr_table)\n",
        "\n",
        "print('ACURÁCIA: ' + str(acc))"
      ]
    },
    {
      "cell_type": "markdown",
      "metadata": {},
      "source": [
        "## Hit Rate"
      ]
    },
    {
      "cell_type": "code",
      "execution_count": null,
      "metadata": {},
      "outputs": [],
      "source": [
        "y_axis = []\n",
        "x_axis = []\n",
        "\n",
        "for top_ite in range(1, len(arr_table.columns)+1):\n",
        "    hit_sum = 0\n",
        "    for i in range(0, len(arr_table)):\n",
        "        true_dict = {}\n",
        "        j = 0\n",
        "        true_arr_values = arr_table.loc[i].tolist()\n",
        "        for column in arr_table.columns.tolist():\n",
        "            true_dict[column] = true_arr_values[j]\n",
        "            j += 1\n",
        "        true_dict = sorted(true_dict.items(), key=lambda x:x[1], reverse=True)\n",
        "\n",
        "\n",
        "        pred_dict = {}\n",
        "        j = 0\n",
        "        pred_arr_values = ranking_table.loc[i].tolist()\n",
        "        for column in ranking_table.columns.tolist():\n",
        "            pred_dict[column] = pred_arr_values[j]\n",
        "            j += 1\n",
        "        pred_dict = sorted(pred_dict.items(), key=lambda x:x[1], reverse=True)\n",
        "\n",
        "        hit = 0\n",
        "        for pred_index in range(0, top_ite):\n",
        "            for true_index in range(0, top_ite):\n",
        "                if pred_dict[pred_index][0] == true_dict[true_index][0]:\n",
        "                    hit = 1\n",
        "                    break\n",
        "            if hit == 1:\n",
        "                hit_sum += 1\n",
        "                break\n",
        "            \n",
        "    y_axis.append(hit_sum / len(arr_table))\n",
        "    x_axis.append(top_ite)\n",
        "\n",
        "\n",
        "top = 3\n",
        "hit_rate = y_axis[top-1]\n",
        "print('Hit Rate (Top '+str(top)+'): ' + str(hit_rate*100) + '%')\n",
        "\n",
        "plt.ylabel('Hit Rate')\n",
        "plt.xlabel('Top N')\n",
        "plt.xticks(x_axis)\n",
        "plt.bar(x_axis, y_axis)\n",
        "plt.show()"
      ]
    },
    {
      "cell_type": "markdown",
      "metadata": {},
      "source": [
        "## Recommendation Accuracy"
      ]
    },
    {
      "cell_type": "code",
      "execution_count": null,
      "metadata": {},
      "outputs": [],
      "source": [
        "y_axis = []\n",
        "x_axis = []\n",
        "\n",
        "for top_ite in range(1, len(arr_table.columns)+1):\n",
        "    rec_acc_sum = 0\n",
        "    for i in range(0, len(arr_table)):\n",
        "        true_dict = {}\n",
        "        j = 0\n",
        "        true_arr_values = arr_table.loc[i].tolist()\n",
        "        for column in arr_table.columns.tolist():\n",
        "            true_dict[column] = true_arr_values[j]\n",
        "            j += 1\n",
        "        true_dict = sorted(true_dict.items(), key=lambda x:x[1], reverse=True)\n",
        "\n",
        "\n",
        "        pred_dict = {}\n",
        "        j = 0\n",
        "        pred_arr_values = ranking_table.loc[i].tolist()\n",
        "        for column in ranking_table.columns.tolist():\n",
        "            pred_dict[column] = pred_arr_values[j]\n",
        "            j += 1\n",
        "        pred_dict = sorted(pred_dict.items(), key=lambda x:x[1], reverse=True)\n",
        "\n",
        "        i = 0\n",
        "        true_set = set()\n",
        "        for alg in true_dict:\n",
        "            if i == top_ite:\n",
        "                break\n",
        "            true_set.add(alg[0])\n",
        "            i += 1        \n",
        "\n",
        "        i = 0\n",
        "        pred_set = set()\n",
        "        for alg in pred_dict:\n",
        "            if i == top_ite:\n",
        "                break\n",
        "            pred_set.add(alg[0])\n",
        "            i += 1\n",
        "        \n",
        "        intersection_set = true_set.intersection(pred_set)\n",
        "        union_set = true_set.union(pred_set)\n",
        "\n",
        "        rec_acc_sum += len(intersection_set) / len(union_set)\n",
        "\n",
        "        # pdb.set_trace()\n",
        "\n",
        "    y_axis.append(rec_acc_sum / len(arr_table))\n",
        "    x_axis.append(top_ite)\n",
        "\n",
        "\n",
        "top = 3\n",
        "recommendation_accuracy = y_axis[top-1]\n",
        "print('Recommendation Accuracy (Top '+str(top)+'): ' + str(recommendation_accuracy*100) + '%')\n",
        "\n",
        "plt.ylabel('Recommendation Accuracy')\n",
        "plt.xlabel('Top N')\n",
        "plt.xticks(x_axis)\n",
        "plt.bar(x_axis, y_axis)\n",
        "plt.show()"
      ]
    }
  ],
  "metadata": {
    "colab": {
      "collapsed_sections": [
        "Mq8fYR6NY_7_",
        "txTPtjMCJTyg",
        "eHUI9P42ZC5o"
      ],
      "provenance": []
    },
    "kernelspec": {
      "display_name": "Python 3",
      "name": "python3"
    },
    "language_info": {
      "codemirror_mode": {
        "name": "ipython",
        "version": 3
      },
      "file_extension": ".py",
      "mimetype": "text/x-python",
      "name": "python",
      "nbconvert_exporter": "python",
      "pygments_lexer": "ipython3",
      "version": "3.10.0"
    }
  },
  "nbformat": 4,
  "nbformat_minor": 0
}

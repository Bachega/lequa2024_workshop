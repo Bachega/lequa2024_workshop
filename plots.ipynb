{
  "cells": [
    {
      "cell_type": "code",
      "execution_count": 1,
      "metadata": {
        "colab": {
          "base_uri": "https://localhost:8080/"
        },
        "id": "ZjtREfRhToyE",
        "outputId": "5a125748-abf0-4d98-a9bc-ce27851ac81e"
      },
      "outputs": [],
      "source": [
        "import seaborn as sns\n",
        "import matplotlib.pyplot as plt\n",
        "import numpy as np\n",
        "import pandas as pd\n",
        "import pickle\n",
        "\n",
        "import warnings\n",
        "warnings.filterwarnings(\"ignore\")"
      ]
    },
    {
      "cell_type": "markdown",
      "metadata": {
        "id": "x7ObIiQD122x"
      },
      "source": [
        "# Plot Functions"
      ]
    },
    {
      "cell_type": "code",
      "execution_count": 2,
      "metadata": {
        "id": "XSdAhl3xKVgy"
      },
      "outputs": [],
      "source": [
        "margin_left = 0.05\n",
        "margin_right= 0.99\n",
        "margin_top = 0.99\n",
        "margin_bottom = .24 # .23\n",
        "plt_width = 52 # 38\n",
        "plt_heigth = 24 # 18\n",
        "plot_rotation = 75\n",
        "axis_font_size = 56 # 50\n",
        "labels_size = 60 # 60\n",
        "\n",
        "def boxplotMae(sample, file=\"\"):\n",
        "    sample['error_rank'] = sample.groupby(['Dataset'], as_index=False )['MAE'].rank(method='average', ascending = True)\n",
        "\n",
        "    order = sample.groupby('Method')['error_rank'].mean().sort_values().index\n",
        "\n",
        "    palette = sns.color_palette('Spectral', sample['Method'].nunique())\n",
        "\n",
        "    with sns.axes_style(\"whitegrid\"):\n",
        "        plt.figure(figsize=(plt_width,plt_heigth))\n",
        "        plt.subplots_adjust(left=margin_left, bottom=margin_bottom, right=margin_right, top=margin_top)\n",
        "        ax=sns.boxplot(data=sample, x='Method', y='error_rank', order = order, palette = palette)\n",
        "\n",
        "        plt.xticks(rotation =plot_rotation ,fontsize = axis_font_size)\n",
        "        plt.yticks(fontsize = axis_font_size)\n",
        "\n",
        "        ax.set_xlabel(\"Quantifiers\",fontsize=labels_size)\n",
        "        ax.set_ylabel(\"Avg. ranking\",fontsize=labels_size)\n",
        "\n",
        "    plt.show()\n",
        "    if file != \"\":\n",
        "        ax.figure.savefig('./figs/'+file+ '.pdf', format=\"pdf\", facecolor='w')\n",
        "\n",
        "    return sample"
      ]
    },
    {
      "cell_type": "markdown",
      "metadata": {
        "id": "gzGWZcKwz6i-"
      },
      "source": [
        "# Plotting results"
      ]
    },
    {
      "cell_type": "markdown",
      "metadata": {},
      "source": [
        "# Quantifiers Hit Rate"
      ]
    },
    {
      "cell_type": "code",
      "execution_count": 3,
      "metadata": {},
      "outputs": [
        {
          "data": {
            "text/html": [
              "<div>\n",
              "<style scoped>\n",
              "    .dataframe tbody tr th:only-of-type {\n",
              "        vertical-align: middle;\n",
              "    }\n",
              "\n",
              "    .dataframe tbody tr th {\n",
              "        vertical-align: top;\n",
              "    }\n",
              "\n",
              "    .dataframe thead th {\n",
              "        text-align: right;\n",
              "    }\n",
              "</style>\n",
              "<table border=\"1\" class=\"dataframe\">\n",
              "  <thead>\n",
              "    <tr style=\"text-align: right;\">\n",
              "      <th></th>\n",
              "      <th>Method</th>\n",
              "      <th>HitRate</th>\n",
              "    </tr>\n",
              "  </thead>\n",
              "  <tbody>\n",
              "    <tr>\n",
              "      <th>0</th>\n",
              "      <td>Top3+BASELINE</td>\n",
              "      <td>0.977444</td>\n",
              "    </tr>\n",
              "    <tr>\n",
              "      <th>1</th>\n",
              "      <td>Top5+BASELINE</td>\n",
              "      <td>0.977444</td>\n",
              "    </tr>\n",
              "    <tr>\n",
              "      <th>2</th>\n",
              "      <td>Top1</td>\n",
              "      <td>0.917293</td>\n",
              "    </tr>\n",
              "    <tr>\n",
              "      <th>3</th>\n",
              "      <td>Top3</td>\n",
              "      <td>1.000000</td>\n",
              "    </tr>\n",
              "    <tr>\n",
              "      <th>4</th>\n",
              "      <td>Top5</td>\n",
              "      <td>1.000000</td>\n",
              "    </tr>\n",
              "    <tr>\n",
              "      <th>5</th>\n",
              "      <td>CC</td>\n",
              "      <td>0.601504</td>\n",
              "    </tr>\n",
              "    <tr>\n",
              "      <th>6</th>\n",
              "      <td>ACC</td>\n",
              "      <td>0.834586</td>\n",
              "    </tr>\n",
              "    <tr>\n",
              "      <th>7</th>\n",
              "      <td>PACC</td>\n",
              "      <td>0.616541</td>\n",
              "    </tr>\n",
              "    <tr>\n",
              "      <th>8</th>\n",
              "      <td>PCC</td>\n",
              "      <td>0.398496</td>\n",
              "    </tr>\n",
              "    <tr>\n",
              "      <th>9</th>\n",
              "      <td>SMM</td>\n",
              "      <td>0.909774</td>\n",
              "    </tr>\n",
              "    <tr>\n",
              "      <th>10</th>\n",
              "      <td>HDy</td>\n",
              "      <td>0.714286</td>\n",
              "    </tr>\n",
              "    <tr>\n",
              "      <th>11</th>\n",
              "      <td>DyS</td>\n",
              "      <td>0.924812</td>\n",
              "    </tr>\n",
              "    <tr>\n",
              "      <th>12</th>\n",
              "      <td>SORD</td>\n",
              "      <td>0.992481</td>\n",
              "    </tr>\n",
              "    <tr>\n",
              "      <th>13</th>\n",
              "      <td>MS</td>\n",
              "      <td>0.887218</td>\n",
              "    </tr>\n",
              "    <tr>\n",
              "      <th>14</th>\n",
              "      <td>MAX</td>\n",
              "      <td>0.924812</td>\n",
              "    </tr>\n",
              "    <tr>\n",
              "      <th>15</th>\n",
              "      <td>X</td>\n",
              "      <td>0.857143</td>\n",
              "    </tr>\n",
              "  </tbody>\n",
              "</table>\n",
              "</div>"
            ],
            "text/plain": [
              "           Method   HitRate\n",
              "0   Top3+BASELINE  0.977444\n",
              "1   Top5+BASELINE  0.977444\n",
              "2            Top1  0.917293\n",
              "3            Top3  1.000000\n",
              "4            Top5  1.000000\n",
              "5              CC  0.601504\n",
              "6             ACC  0.834586\n",
              "7            PACC  0.616541\n",
              "8             PCC  0.398496\n",
              "9             SMM  0.909774\n",
              "10            HDy  0.714286\n",
              "11            DyS  0.924812\n",
              "12           SORD  0.992481\n",
              "13             MS  0.887218\n",
              "14            MAX  0.924812\n",
              "15              X  0.857143"
            ]
          },
          "execution_count": 3,
          "metadata": {},
          "output_type": "execute_result"
        }
      ],
      "source": [
        "hit_rate_table = pd.read_csv('./plot_data/plot_tables/recommender_hit_rate_table.csv')\n",
        "hit_rate_table"
      ]
    },
    {
      "cell_type": "markdown",
      "metadata": {
        "id": "gdZJIDwv1Hmm"
      },
      "source": [
        "## Plotting Quantification Results"
      ]
    },
    {
      "cell_type": "code",
      "execution_count": null,
      "metadata": {},
      "outputs": [],
      "source": [
        "experiment_table_path = './plot_data/plot_tables/experiment_table.csv'\n",
        "\n",
        "experiment_table = pd.read_csv(experiment_table_path)\n",
        "\n",
        "experiment_table['Method'].unique()"
      ]
    },
    {
      "cell_type": "code",
      "execution_count": null,
      "metadata": {},
      "outputs": [],
      "source": [
        "experiment_table_path = './plot_data/plot_tables/experiment_table.csv'\n",
        "\n",
        "final_experiment_table = pd.read_csv(experiment_table_path)\n",
        "\n",
        "final_experiment_table.replace({\n",
        "   \"TOP1\": \"Top-1\",\n",
        "   \"TOP3+MEDIAN\": \"Top-3\",\n",
        "   \"TOP5+MEDIAN\": \"Top-5\",\n",
        "   \"TOP3+WEIGHTED\": \"Top-3+W\",\n",
        "   \"TOP5+WEIGHTED\": \"Top-5+W\",\n",
        "   \"BASELINE+TOP3+MEDIAN\": \"(B) Top-3\",\n",
        "   \"BASELINE+TOP5+MEDIAN\": \"(B) Top-5\",\n",
        "   \"BASELINE+TOP3+WEIGHTED\": \"(B) Top-3+W\",\n",
        "   \"BASELINE+TOP5+WEIGHTED\": \"(B) Top-5+W\",\n",
        "\n",
        "}, inplace=True)\n",
        "\n",
        "query_final = \"Method in ['ACC', 'CC', 'DyS', 'HDy', 'MAX', 'MS', 'PACC', 'PCC', 'SMM', 'SORD', 'Top-1', 'Top-3', 'Top-3+W', 'Top-5', 'Top-5+W', 'X', '(B) Top-3', '(B) Top-5', '(B) Top-3+W', '(B) Top-5+W']\""
      ]
    },
    {
      "cell_type": "code",
      "execution_count": null,
      "metadata": {
        "id": "IjG9SyOZ2xnf"
      },
      "outputs": [],
      "source": [
        "# experiment_table_path = './plot_data/plot_tables/def_experiment_tables/experiment_table.csv'\n",
        "# baseline_experiment_table_path = './plot_data/plot_tables/experiment_table_WITH_BASELINE_RANDOM.csv'\n",
        "\n",
        "# experiment_table = pd.read_csv(experiment_table_path)\n",
        "# baseline_experiment_table = pd.read_csv(baseline_experiment_table_path)\n",
        "\n",
        "# experiment_table.replace({\n",
        "#    \"Random Forests+Top1\": \"Top-1\",\n",
        "#    \"Random Forests+Top3 (MEDIAN)\": \"Top-3\",\n",
        "#    \"Random Forests+Top5 (MEDIAN)\": \"Top-5\",\n",
        "#    \"Random Forests+Top3+Weighted (ENSEMBLE)\": \"Top-3+W\",\n",
        "#    \"Random Forests+Top5+Weighted (ENSEMBLE)\": \"Top-5+W\",\n",
        "#    \"SVM+Top1\": \"SVM (k=1)\",\n",
        "#    \"SVM+Top3 (MEDIAN)\": \"SVM (k=3)\",\n",
        "#    \"SVM+Top5 (MEDIAN)\": \"SVM (k=5\",\n",
        "#    \"SVM+Top3+Weighted (ENSEMBLE)\": \"SVM+Weighted (k=3)\",\n",
        "#    \"SVM+Top5+Weighted (ENSEMBLE)\": \"SVM+Weighted (k=5)\",\n",
        "#    \"XGBOOST+Top1\": \"XGBoost (k=1)\",\n",
        "#    \"XGBOOST+Top3 (MEDIAN)\": \"XGBoost (k=3)\",\n",
        "#    \"XGBOOST+Top5 (MEDIAN)\": \"XGBoost (k=5)\",\n",
        "#    \"XGBOOST+Top3+Weighted (ENSEMBLE)\": \"XGBoost+Weighted (k=3)\",\n",
        "#    \"XGBOOST+Top5+Weighted (ENSEMBLE)\": \"XGBoost+Weighted (k=5)\",\n",
        "# }, inplace=True)\n",
        "\n",
        "# baseline_experiment_table.replace({\n",
        "#     \"TOP3+MEDIAN+BASELINE+RANDOM\": \"(B) Top-3\",\n",
        "#     \"TOP5+MEDIAN+BASELINE+RANDOM\": \"(B) Top-5\",\n",
        "#     \"TOP3+WEIGHTED+BASELINE+RANDOM\": \"(B) Top-3+W\",\n",
        "#     \"TOP5+WEIGHTED+BASELINE+RANDOM\": \"(B) Top-5+W\"\n",
        "# }, inplace=True)\n",
        "\n",
        "# query_exp = \"Method in ['ACC', 'CC', 'DyS', 'HDy', 'MAX', 'MS', 'PACC', 'PCC', 'SMM', 'SORD', 'Top-1', 'Top-3', 'Top-3+W', 'Top-5', 'Top-5+W', 'X']\"\n",
        "# query_baseline = \"Method in ['(B) Top-3', '(B) Top-5', '(B) Top-3+W', '(B) Top-5+W']\"\n",
        "\n",
        "# aux_experiment_table = experiment_table.query(query_exp)\n",
        "# aux_baseline_experiment_table = baseline_experiment_table.query(query_baseline)\n",
        "\n",
        "# final_experiment_table = pd.concat([aux_experiment_table, aux_baseline_experiment_table])\n",
        "# query_final = query_exp = \"Method in ['ACC', 'CC', 'DyS', 'HDy', 'MAX', 'MS', 'PACC', 'PCC', 'SMM', 'SORD', 'Top-1', 'Top-3', 'Top-3+W', 'Top-5', 'Top-5+W', 'X', '(B) Top-3', '(B) Top-5', '(B) Top-3+W', '(B) Top-5+W']\""
      ]
    },
    {
      "cell_type": "code",
      "execution_count": null,
      "metadata": {
        "colab": {
          "base_uri": "https://localhost:8080/",
          "height": 1000
        },
        "id": "qg8UfYf7Naph",
        "outputId": "5c28b602-7f0f-4e61-b2cd-043d750e5497"
      },
      "outputs": [],
      "source": [
        "x= boxplotMae(final_experiment_table.query(query_final), 'boxall')"
      ]
    },
    {
      "cell_type": "markdown",
      "metadata": {},
      "source": [
        "## Histogram of Asetopt (X) by Dataset (y)"
      ]
    },
    {
      "cell_type": "code",
      "execution_count": null,
      "metadata": {},
      "outputs": [],
      "source": [
        "import pandas as pd\n",
        "import seaborn as sns\n",
        "import matplotlib.pyplot as plt\n",
        "import numpy as np\n",
        "\n",
        "hist = pd.read_csv('./plot_data/histogram.csv')\n",
        "x = hist.values[0]\n",
        "\n",
        "bin_edges = np.arange(0.5, len(x) + 1.5)\n",
        "\n",
        "values = []\n",
        "for i in range(len(x)):\n",
        "    values.extend([i + 1] * x[i])\n",
        "\n",
        "ax = sns.histplot(values, bins=bin_edges, kde=True)\n",
        "ax.set(xlabel='Number of quantifiers in Algorithm Optimal Set', ylabel='Number of datasets')\n",
        "\n",
        "plt.xticks(np.arange(1, len(x) + 1))\n",
        "# plt.ylim(1, 133)\n",
        "\n",
        "plt.show()\n",
        "\n",
        "ax.figure.savefig('./figs/aoptset_histogram.pdf', format=\"pdf\", facecolor='w')"
      ]
    },
    {
      "cell_type": "code",
      "execution_count": null,
      "metadata": {},
      "outputs": [],
      "source": [
        "import pandas as pd\n",
        "import seaborn as sns\n",
        "import matplotlib.pyplot as plt\n",
        "import numpy as np\n",
        "\n",
        "# Read the CSV file\n",
        "hist = pd.read_csv('./plot_data/histogram.csv')\n",
        "x = hist.values[0]\n",
        "\n",
        "# Prepare the data for the boxplot\n",
        "values = []\n",
        "for i in range(len(x)):\n",
        "    values.extend([i + 1] * x[i])\n",
        "\n",
        "# Create the boxplot\n",
        "ax = sns.boxplot(x=values)\n",
        "ax.set(xlabel='Number of quantifiers in Algorithm Optimal Set', ylabel='Number of datasets')\n",
        "\n",
        "# Set x-axis labels from 1 to 12\n",
        "ax.set_xticks(range(1, 13))\n",
        "\n",
        "# Show the plot\n",
        "plt.show()\n",
        "\n",
        "# Save the plot as a PDF file\n",
        "ax.figure.savefig('./figs/aoptset_boxplot.pdf', format=\"pdf\", facecolor='w')"
      ]
    },
    {
      "cell_type": "markdown",
      "metadata": {},
      "source": [
        "## Histogram of Quantifiers in ASetOpt (x) by Dataset (y)"
      ]
    },
    {
      "cell_type": "code",
      "execution_count": null,
      "metadata": {},
      "outputs": [],
      "source": [
        "hist_quantifiers = pd.read_csv('./plot_data/histogram_quantifiers.csv')\n",
        "\n"
      ]
    },
    {
      "cell_type": "code",
      "execution_count": null,
      "metadata": {},
      "outputs": [],
      "source": [
        "import pandas as pd\n",
        "import matplotlib.pyplot as plt\n",
        "\n",
        "# Read the CSV file\n",
        "hist_quantifiers = pd.read_csv('./plot_data/histogram_quantifiers.csv')\n",
        "\n",
        "x = hist_quantifiers.values[0]\n",
        "quantifier_names = hist.columns.tolist()\n",
        "\n",
        "print()\n",
        "\n",
        "bin_edges = np.arange(0.5, len(x) + 1.5)\n",
        "\n",
        "values = []\n",
        "for i in range(len(x)):\n",
        "    values.extend([i + 1] * x[i])\n",
        "\n",
        "ax = sns.histplot(values, bins=bin_edges, kde=True)\n",
        "ax.set(xlabel='Number of times a Quantifier is in the Algorithm Optimal Set', ylabel='Number of datasets')\n",
        "\n",
        "plt.xticks(np.arange(1, len(x) + 1))\n",
        "ax.set_xticklabels(quantifier_names, rotation=90)\n",
        "# plt.ylim(1, 133)\n",
        "\n",
        "plt.show()\n",
        "\n",
        "ax.figure.savefig('./figs/quantifiers_in_aoptset_histogram.pdf', format=\"pdf\", facecolor='w')"
      ]
    }
  ],
  "metadata": {
    "colab": {
      "collapsed_sections": [
        "3hOgHLNr0K0M"
      ],
      "provenance": []
    },
    "kernelspec": {
      "display_name": "Python 3",
      "name": "python3"
    },
    "language_info": {
      "codemirror_mode": {
        "name": "ipython",
        "version": 3
      },
      "file_extension": ".py",
      "mimetype": "text/x-python",
      "name": "python",
      "nbconvert_exporter": "python",
      "pygments_lexer": "ipython3",
      "version": "3.12.4"
    }
  },
  "nbformat": 4,
  "nbformat_minor": 0
}

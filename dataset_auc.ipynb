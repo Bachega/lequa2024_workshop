{
  "cells": [
    {
      "cell_type": "markdown",
      "metadata": {
        "id": "N3HRTpH4e6Hu"
      },
      "source": [
        "# init"
      ]
    },
    {
      "cell_type": "code",
      "execution_count": null,
      "metadata": {
        "colab": {
          "base_uri": "https://localhost:8080/"
        },
        "id": "VrbjY-lzN_DJ",
        "outputId": "efa55289-bae7-47a9-8892-9680aa3f5e50"
      },
      "outputs": [],
      "source": [
        "import os\n",
        "import matplotlib\n",
        "import matplotlib.pyplot as plt\n",
        "import numpy as np\n",
        "import pandas as pd\n",
        "from scipy.io.arff import loadarff\n",
        "\n",
        "from sklearn.model_selection import train_test_split\n",
        "from sklearn.linear_model import LogisticRegression\n",
        "from sklearn import metrics\n",
        "from sklearn import preprocessing\n",
        "from sklearn.ensemble import RandomForestClassifier\n",
        "\n",
        "recommendation_table_path = \"drive/My Drive/Mestrado/data/recommendation table/recommendation-table.csv\"\n",
        "\n",
        "ccTable = \"drive/My Drive/Mestrado/data/recommender/meta-table-cc.csv\"\n",
        "dysTable = \"drive/My Drive/Mestrado/data/recommender/meta-table-dys.csv\"\n",
        "accTable = \"drive/My Drive/Mestrado/data/recommender/meta-table-acc.csv\"\n",
        "msTable = \"drive/My Drive/Mestrado/data/recommender/meta-table-ms.csv\"\n",
        "algList = ['CC', 'DyS', 'ACC', 'MS']\n",
        "pathList = [ccTable, dysTable, accTable, msTable]\n",
        "\n",
        "path_arff = \"drive/My Drive/Mestrado/data/datasets/arff/\"\n",
        "path_index = \"drive/My Drive/Mestrado/data/index/arff/\"\n",
        "files_arff = os.listdir(path_arff)\n",
        "\n",
        "path = \"drive/My Drive/Mestrado/data/experimento/datasets/selected/cleaned/\"\n",
        "files = os.listdir(path)"
      ]
    },
    {
      "cell_type": "markdown",
      "metadata": {
        "id": "lVQ7-0zwTcbA"
      },
      "source": [
        "# load datasets"
      ]
    },
    {
      "cell_type": "code",
      "execution_count": null,
      "metadata": {
        "colab": {
          "base_uri": "https://localhost:8080/"
        },
        "id": "mzznByXKd7Uf",
        "outputId": "be2ee6c0-64aa-4116-fe91-824f92e6b87b"
      },
      "outputs": [],
      "source": [
        "i = 0\n",
        "dataframe = None\n",
        "X = None\n",
        "y = None\n",
        "X_list = []\n",
        "y_list = []\n",
        "\n",
        "for f in files:\n",
        "  if i == 9 or i == 14:\n",
        "    i += 1\n",
        "    continue\n",
        "\n",
        "  df = pd.read_csv(path + f)\n",
        "  df = df.dropna()\n",
        "\n",
        "  if i == 0:\n",
        "    df.drop('author', axis=1, inplace=True)\n",
        "\n",
        "  y = df.pop(df.columns[-1])\n",
        "  X = df\n",
        "\n",
        "  # y_list.append(y.to_numpy())\n",
        "  # X_list.append(X.to_numpy())\n",
        "  X_list.append(X)\n",
        "  y_list.append(y)\n",
        "\n",
        "  i += 1\n",
        "\n",
        "df_list = []\n",
        "for f in files_arff:\n",
        "  data = loadarff(path_arff + f)\n",
        "  dataframe = pd.DataFrame(data[0])\n",
        "\n",
        "  catCols = [col for col in dataframe.columns if dataframe[col].dtype==\"O\"]\n",
        "  dataframe[catCols] = dataframe[catCols].apply(lambda x: x.str.decode('utf8'))\n",
        "\n",
        "  dataframe.replace(dataframe.mode()['class'][0], 1, inplace=True)\n",
        "  dataframe['class'].mask(dataframe['class'] != 1, 0, inplace=True)\n",
        "\n",
        "  y = (dataframe.pop('class'))\n",
        "  X = dataframe\n",
        "\n",
        "  # X_list.append(X.to_numpy())\n",
        "  # y_list.append((y.to_numpy()).astype(int))\n",
        "  X_list.append(X)\n",
        "  y_list.append(y.astype(int))\n",
        "\n",
        "ignore_list = [24, 27, 28, 34, 35, 38, 50, 51, 61, 64, 71, 74, 80, 82, 98, 111, 116, 119, 129, 143, 144, 148, 149, 155, 156, 157, 159, 160]\n",
        "i = len(X_list)\n",
        "\n",
        "# temp_list = []\n",
        "while i >= 0:\n",
        "  if i in ignore_list:\n",
        "    del X_list[i]\n",
        "    del y_list[i]\n",
        "  i -= 1\n",
        "\n",
        "i = 0\n",
        "\n",
        "# É PRECISO SER FEITO ISSO POR QUE A INSTÂNCIA DE POS 82 NA\n",
        "# METATABELA POSSUI VALORES INVÁLIDOS PARA O ALGORITMO DE\n",
        "# ÁRVORE DE DECISÃO\n",
        "del X_list[82]\n",
        "del y_list[82]\n",
        "\n",
        "len(y_list)"
      ]
    },
    {
      "cell_type": "markdown",
      "metadata": {
        "id": "rq3tt7_qTgW_"
      },
      "source": [
        "# load absolute error for each dataset from each algorithm"
      ]
    },
    {
      "cell_type": "code",
      "execution_count": null,
      "metadata": {
        "id": "e06H5rKWUdXv"
      },
      "outputs": [],
      "source": [
        "abs_error_dict = {}\n",
        "i = 0\n",
        "for path in pathList:\n",
        "  table = pd.read_csv(path)\n",
        "  table.drop(82, inplace = True)\n",
        "  data = table.values\n",
        "  abs_error_list = data[:, -1]\n",
        "  abs_error_dict[str(algList[i])] = abs_error_list\n",
        "  i += 1"
      ]
    },
    {
      "cell_type": "code",
      "execution_count": null,
      "metadata": {
        "id": "h4AOzkL0OXyh"
      },
      "outputs": [],
      "source": [
        "recommendation_table = pd.read_csv(recommendation_table_path)\n",
        "abs_error_ideal_list = recommendation_table['abs-error-ideal'].values\n",
        "quantifier_ideal_list = recommendation_table['quantifier-ideal-num'].values\n",
        "\n",
        "abs_error_recommended_list = recommendation_table['abs-error-recommended'].values\n",
        "quantifier_recommended_list = recommendation_table['quantifier-recommended-num'].values"
      ]
    },
    {
      "cell_type": "code",
      "execution_count": null,
      "metadata": {
        "colab": {
          "base_uri": "https://localhost:8080/",
          "height": 502
        },
        "id": "_V-9kwEm201w",
        "outputId": "5762aeb8-41f1-43bb-c326-436552c1dd2a"
      },
      "outputs": [],
      "source": [
        "recommendation_table = recommendation_table.sort_values(by=['abs-error-ideal'])\n",
        "recommendation_table"
      ]
    },
    {
      "cell_type": "markdown",
      "metadata": {
        "id": "-G8SpwSNTpMA"
      },
      "source": [
        "# calculate and plot AUC versus Algorithm (eg. AUC x CC, AUC x DyS)"
      ]
    },
    {
      "cell_type": "code",
      "execution_count": null,
      "metadata": {
        "id": "3HkXvhQ29LE3"
      },
      "outputs": [],
      "source": [
        "auc_list = []\n",
        "clf = RandomForestClassifier(n_estimators=500, random_state=42)\n",
        "for i in range(0, len(X_list)):\n",
        "  X = X_list[i]\n",
        "  y = y_list[i]\n",
        "\n",
        "  X_train, X_test, y_train, y_test = train_test_split(X, y, test_size=0.33, random_state=42)\n",
        "\n",
        "  clf.fit(X_train, y_train)\n",
        "\n",
        "  y_prediction_proba = clf.predict_proba(X_test)[::,1]\n",
        "\n",
        "  auc_list.append(metrics.roc_auc_score(y_test, y_prediction_proba))"
      ]
    },
    {
      "cell_type": "code",
      "execution_count": null,
      "metadata": {
        "colab": {
          "base_uri": "https://localhost:8080/",
          "height": 564
        },
        "id": "0lYSHXcYTVZg",
        "outputId": "7bf6bcd6-3e7b-4d2e-fdca-2fd2ff82bcc3"
      },
      "outputs": [],
      "source": [
        "x = auc_list\n",
        "y = abs_error_ideal_list\n",
        "label = quantifier_ideal_list\n",
        "colors = ['red', 'green', 'blue', 'yellow']\n",
        "\n",
        "fig = plt.figure(figsize=(30,10))\n",
        "plt.scatter(x, y, c=label, cmap=matplotlib.colors.ListedColormap(colors))\n",
        "\n",
        "plt.title(\"AUC x Absolute Error (Melhor algoritmo)\")\n",
        "plt.xlabel(\"AUC\")\n",
        "plt.ylabel(\"ABS ERROR\")\n",
        "\n",
        "cb = plt.colorbar()\n",
        "loc = np.arange(0,max(label),max(label)/float(len(colors)))\n",
        "cb.set_ticks(loc)\n",
        "\n",
        "unique, counts = np.unique(quantifier_ideal_list, return_counts=True)\n",
        "counts = dict(zip(unique, counts))\n",
        "\n",
        "cb.set_ticklabels(['CC (' + str(counts[0]) + ' pontos)',\n",
        "                   'DyS (' + str(counts[1]) + ' pontos)',\n",
        "                   'ACC (' + str(counts[2]) + ' pontos)',\n",
        "                   'MS (' + str(counts[3]) + ' pontos)'])"
      ]
    },
    {
      "cell_type": "code",
      "execution_count": null,
      "metadata": {
        "colab": {
          "base_uri": "https://localhost:8080/",
          "height": 563
        },
        "id": "m_KksXG02K2I",
        "outputId": "0c20195c-6246-4a96-feb1-8b18861fad3b"
      },
      "outputs": [],
      "source": [
        "x = auc_list\n",
        "y = abs_error_recommended_list\n",
        "label = quantifier_recommended_list\n",
        "colors = ['red', 'green', 'blue', 'yellow']\n",
        "\n",
        "fig = plt.figure(figsize=(30,10))\n",
        "plt.scatter(x, y, c=label, cmap=matplotlib.colors.ListedColormap(colors))\n",
        "\n",
        "plt.title(\"AUC x Absolute Error (Algoritmo predito)\")\n",
        "plt.xlabel(\"AUC\")\n",
        "plt.ylabel(\"ABS ERROR\")\n",
        "\n",
        "cb = plt.colorbar()\n",
        "loc = np.arange(0,max(label),max(label)/float(len(colors)))\n",
        "cb.set_ticks(loc)\n",
        "\n",
        "unique, counts = np.unique(quantifier_recommended_list, return_counts=True)\n",
        "counts = dict(zip(unique, counts))\n",
        "\n",
        "cb.set_ticklabels(['CC (' + str(counts[0]) + ' pontos)',\n",
        "                   'DyS (' + str(counts[1]) + ' pontos)',\n",
        "                   'ACC (' + str(counts[2]) + ' pontos)',\n",
        "                   'MS (' + str(counts[3]) + ' pontos)'])"
      ]
    },
    {
      "cell_type": "code",
      "execution_count": null,
      "metadata": {
        "colab": {
          "base_uri": "https://localhost:8080/",
          "height": 830
        },
        "id": "owdEU3DpH26m",
        "outputId": "2c25f96b-57b4-49c2-bcff-ffaa6a57039a"
      },
      "outputs": [],
      "source": [
        "x = auc_list\n",
        "\n",
        "y1 = abs_error_ideal_list\n",
        "y2 = abs_error_recommended_list\n",
        "\n",
        "y3 = quantifier_ideal_list == quantifier_recommended_list\n",
        "colors = ['red', 'blue']\n",
        "\n",
        "print(y3)\n",
        "\n",
        "plt.figure(figsize=(30,10))\n",
        "\n",
        "plt.title('AUC x ABSOLUTE ERROR')\n",
        "plt.xlabel('AUC\\nAzul = Ideal\\nLaranja = Regressor')\n",
        "plt.ylabel('ABS ERROR')\n",
        "\n",
        "plt.scatter(x, abs(y1-y2), c=y3, cmap=matplotlib.colors.ListedColormap(colors))\n",
        "# plt.scatter(x, y2)\n",
        "\n",
        "plt.show()\n",
        "\n",
        "print(y1[0])\n",
        "print(y2[0])\n",
        "print(np.mean(abs(y1-y2)))\n",
        "print(np.std(abs(y1-y2)))"
      ]
    },
    {
      "cell_type": "code",
      "execution_count": null,
      "metadata": {
        "colab": {
          "base_uri": "https://localhost:8080/",
          "height": 490
        },
        "id": "M8XWtJltX9m-",
        "outputId": "fbe9d020-fe85-4cc6-b534-87066efbe3cd"
      },
      "outputs": [],
      "source": [
        "# AUC x CC\n",
        "\n",
        "x = auc_list\n",
        "y = abs_error_dict['CC']\n",
        "\n",
        "plt.plot(x, y, 'o')\n",
        "\n",
        "plt.title(\"AUC x Absolute Error (CC)\")\n",
        "plt.xlabel(\"AUC\")\n",
        "plt.ylabel(\"ABS ERROR\")"
      ]
    },
    {
      "cell_type": "code",
      "execution_count": null,
      "metadata": {
        "colab": {
          "base_uri": "https://localhost:8080/",
          "height": 490
        },
        "id": "-teQKCRlYfTW",
        "outputId": "b270958d-9d3b-40fa-bf08-7df928de5d46"
      },
      "outputs": [],
      "source": [
        "# AUC x DyS\n",
        "\n",
        "x = auc_list\n",
        "y = abs_error_dict['DyS']\n",
        "\n",
        "plt.plot(x, y, 'o')\n",
        "\n",
        "plt.title(\"AUC x Absolute Error (DyS)\")\n",
        "plt.xlabel(\"AUC\")\n",
        "plt.ylabel(\"ABS ERROR\")"
      ]
    },
    {
      "cell_type": "code",
      "execution_count": null,
      "metadata": {
        "colab": {
          "base_uri": "https://localhost:8080/",
          "height": 490
        },
        "id": "rmEza-RMYfNu",
        "outputId": "0200d5af-f350-4a8b-dd3f-671d79b83d61"
      },
      "outputs": [],
      "source": [
        "# AUC x ACC\n",
        "\n",
        "x = auc_list\n",
        "y = abs_error_dict['ACC']\n",
        "\n",
        "plt.plot(x, y, 'o')\n",
        "\n",
        "plt.title(\"AUC x Absolute Error (ACC)\")\n",
        "plt.xlabel(\"AUC\")\n",
        "plt.ylabel(\"ABS ERROR\")"
      ]
    },
    {
      "cell_type": "code",
      "execution_count": null,
      "metadata": {
        "colab": {
          "base_uri": "https://localhost:8080/",
          "height": 490
        },
        "id": "3qu34GgPYe4_",
        "outputId": "fc8b8462-c8e6-4c8c-9212-5471c66cc348"
      },
      "outputs": [],
      "source": [
        "# AUC x MS\n",
        "\n",
        "x = auc_list\n",
        "y = abs_error_dict['MS']\n",
        "\n",
        "plt.plot(x, y, 'o')\n",
        "\n",
        "plt.title(\"AUC x Absolute Error (MS)\")\n",
        "plt.xlabel(\"AUC\")\n",
        "plt.ylabel(\"ABS ERROR\")"
      ]
    },
    {
      "cell_type": "code",
      "execution_count": null,
      "metadata": {
        "colab": {
          "base_uri": "https://localhost:8080/"
        },
        "id": "1bnushX0bz93",
        "outputId": "f575ee8c-62ca-4712-d2e8-767cf5552af4"
      },
      "outputs": [],
      "source": [
        "abs_error_dict['CC']"
      ]
    }
  ],
  "metadata": {
    "colab": {
      "provenance": []
    },
    "kernelspec": {
      "display_name": "Python 3",
      "name": "python3"
    },
    "language_info": {
      "codemirror_mode": {
        "name": "ipython",
        "version": 3
      },
      "file_extension": ".py",
      "mimetype": "text/x-python",
      "name": "python",
      "nbconvert_exporter": "python",
      "pygments_lexer": "ipython3",
      "version": "3.10.0"
    }
  },
  "nbformat": 4,
  "nbformat_minor": 0
}

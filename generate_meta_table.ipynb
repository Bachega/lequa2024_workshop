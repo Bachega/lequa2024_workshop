{
 "cells": [
  {
   "cell_type": "code",
   "execution_count": 1,
   "metadata": {},
   "outputs": [],
   "source": [
    "import os\n",
    "import warnings\n",
    "import numpy as np\n",
    "import pandas as pd\n",
    "from pymfe.mfe import MFE\n",
    "\n",
    "save_path = './metafeatures/meta-table.csv'\n",
    "path = \"./datasets/\"\n",
    "files = os.listdir(path)"
   ]
  },
  {
   "cell_type": "code",
   "execution_count": null,
   "metadata": {},
   "outputs": [],
   "source": [
    "t = pd.read_csv(save_path)\n",
    "t.columns"
   ]
  },
  {
   "cell_type": "code",
   "execution_count": 2,
   "metadata": {},
   "outputs": [
    {
     "data": {
      "text/plain": [
       "161"
      ]
     },
     "execution_count": 2,
     "metadata": {},
     "output_type": "execute_result"
    }
   ],
   "source": [
    "i = 0\n",
    "dataframe = None\n",
    "X = None\n",
    "y = None\n",
    "X_list = []\n",
    "y_list = []\n",
    "\n",
    "for f in files:\n",
    "  df = pd.read_csv(path + f)\n",
    "  df = df.dropna()\n",
    "\n",
    "  y = df.pop(df.columns[-1])\n",
    "  X = df\n",
    "\n",
    "  y_list.append(y.to_numpy())\n",
    "  X_list.append(X.to_numpy())\n",
    "\n",
    "  i += 1\n",
    "\n",
    "i = 0\n",
    "len(X_list)"
   ]
  },
  {
   "cell_type": "code",
   "execution_count": 3,
   "metadata": {},
   "outputs": [],
   "source": [
    "warnings.filterwarnings('ignore')\n",
    "mfe = MFE(random_state=42)\n",
    "\n",
    "mfe.fit(X_list[0], y_list[0])\n",
    "ft = mfe.extract(cat_cols='auto', suppress_warnings=True)\n",
    "meta_table = pd.DataFrame(columns=ft[0])\n",
    "meta_table.loc[len(meta_table)] = ft[1]\n",
    "\n",
    "for i in range(1, len(X_list)):\n",
    "  mfe.fit(X_list[i], y_list[i])\n",
    "  ft = mfe.extract(cat_cols='auto', suppress_warnings=True)\n",
    "  meta_table.loc[len(meta_table)] = ft[1]\n",
    "\n",
    "meta_table\n",
    "# # # # # meta_table.to_csv(save_path, index = False)"
   ]
  }
 ],
 "metadata": {
  "kernelspec": {
   "display_name": "Python 3",
   "language": "python",
   "name": "python3"
  },
  "language_info": {
   "codemirror_mode": {
    "name": "ipython",
    "version": 3
   },
   "file_extension": ".py",
   "mimetype": "text/x-python",
   "name": "python",
   "nbconvert_exporter": "python",
   "pygments_lexer": "ipython3",
   "version": "3.10.0"
  },
  "orig_nbformat": 4
 },
 "nbformat": 4,
 "nbformat_minor": 2
}

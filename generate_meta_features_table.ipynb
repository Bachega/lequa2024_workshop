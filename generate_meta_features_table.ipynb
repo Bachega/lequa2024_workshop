{
 "cells": [
  {
   "cell_type": "markdown",
   "metadata": {},
   "source": [
    "# Start"
   ]
  },
  {
   "cell_type": "code",
   "execution_count": 6,
   "metadata": {},
   "outputs": [],
   "source": [
    "import os\n",
    "import warnings\n",
    "import numpy as np\n",
    "import pandas as pd\n",
    "from pymfe.mfe import MFE\n",
    "from sklearn.preprocessing import MinMaxScaler\n",
    "\n",
    "save_path = './metafeatures/meta-features-table.csv'\n",
    "path = \"./datasets/\"\n",
    "files = os.listdir(path)"
   ]
  },
  {
   "cell_type": "markdown",
   "metadata": {},
   "source": [
    "# Load datasets"
   ]
  },
  {
   "cell_type": "code",
   "execution_count": 4,
   "metadata": {},
   "outputs": [],
   "source": [
    "i = 0\n",
    "dataframe = None\n",
    "X = None\n",
    "y = None\n",
    "X_list = []\n",
    "y_list = []\n",
    "dataset_list = []\n",
    "\n",
    "# Meta features are extracted using the whole dataset\n",
    "# (not using only the train partition)\n",
    "for f in files:\n",
    "  df = pd.read_csv(path + f)\n",
    "  df = df.dropna()\n",
    "\n",
    "  y = df.pop(df.columns[-1])\n",
    "  X = df\n",
    "\n",
    "  y_list.append(y.to_numpy())\n",
    "  X_list.append(X.to_numpy())\n",
    "  dataset_list.append(f)\n",
    "\n",
    "  i += 1\n",
    "\n",
    "i = 0\n",
    "\n",
    "# meta_table_index = pd.DataFrame(data=dataset_list, columns=['dataset_name'])\n",
    "# meta_table_index.to_csv('./metafeatures/meta-features-table-index.csv', index = False)"
   ]
  },
  {
   "cell_type": "markdown",
   "metadata": {},
   "source": [
    "# Extract meta-features"
   ]
  },
  {
   "cell_type": "code",
   "execution_count": null,
   "metadata": {},
   "outputs": [],
   "source": [
    "warnings.filterwarnings('ignore')\n",
    "\n",
    "# MFE with default settings AND random_state=42\n",
    "mfe = MFE(random_state=42)\n",
    "\n",
    "# First dataset has its meta features extracted before the\n",
    "# \"for loop\" (to construct the 'meta_table' dataframe)\n",
    "mfe.fit(X_list[0], y_list[0])\n",
    "ft = mfe.extract(cat_cols='auto', suppress_warnings=True)\n",
    "meta_table = pd.DataFrame(columns=ft[0])\n",
    "meta_table.loc[len(meta_table)] = ft[1]\n",
    "\n",
    "# Meta features are extracted from each dataset and then included\n",
    "# as a meta instance in the meta table\n",
    "for i in range(1, len(X_list)):\n",
    "  mfe.fit(X_list[i], y_list[i])\n",
    "  ft = mfe.extract(cat_cols='auto', suppress_warnings=True)\n",
    "  meta_table.loc[len(meta_table)] = ft[1]\n",
    "\n",
    "\n",
    "# NaN values in the meta table are set to zero\n",
    "# Infinity values in the meta table are set to a very large number\n",
    "data = meta_table.values\n",
    "np.nan_to_num(data, copy=False)\n",
    "\n",
    "# If a value is higher than MAX(float32), then change it to MAX(float32)\n",
    "# some models break if we don't do this\n",
    "row, column = np.where(data > np.finfo(np.float32).max)\n",
    "for i in range(len(row)):\n",
    "    data[row[i]][column[i]] = np.finfo(np.float32).max\n",
    "\n",
    "# Meta features normalization\n",
    "scaler = MinMaxScaler()\n",
    "scaler.fit(data)\n",
    "data = pd.DataFrame(scaler.transform(data), columns=meta_table.columns)\n",
    "\n",
    "# Save meta features table\n",
    "# data.to_csv(save_path, index = False)"
   ]
  }
 ],
 "metadata": {
  "kernelspec": {
   "display_name": "Python 3",
   "language": "python",
   "name": "python3"
  },
  "language_info": {
   "codemirror_mode": {
    "name": "ipython",
    "version": 3
   },
   "file_extension": ".py",
   "mimetype": "text/x-python",
   "name": "python",
   "nbconvert_exporter": "python",
   "pygments_lexer": "ipython3",
   "version": "3.12.4"
  },
  "orig_nbformat": 4
 },
 "nbformat": 4,
 "nbformat_minor": 2
}

{
  "cells": [
    {
      "cell_type": "markdown",
      "metadata": {
        "id": "Mq8fYR6NY_7_"
      },
      "source": [
        "# Start"
      ]
    },
    {
      "cell_type": "code",
      "execution_count": 1,
      "metadata": {
        "colab": {
          "base_uri": "https://localhost:8080/"
        },
        "id": "pmUgYPsj0Tw-",
        "outputId": "ae3e58b5-9821-4a9b-d5d9-a9d6191f532b"
      },
      "outputs": [],
      "source": [
        "import os\n",
        "import numpy as np\n",
        "import pandas as pd\n",
        "from sklearn.ensemble import RandomForestRegressor\n",
        "from scipy.stats import friedmanchisquare\n",
        "from scikit_posthocs import posthoc_ttest\n",
        "import random\n",
        "\n",
        "experiment_tables_path = './experiment_tables/'\n",
        "experiment_tables_dict = None\n",
        "processed_datasets_df = None\n",
        "\n",
        "datasets_path = './datasets/'\n",
        "files = os.listdir(datasets_path)"
      ]
    },
    {
      "cell_type": "markdown",
      "metadata": {
        "id": "eHUI9P42ZC5o"
      },
      "source": [
        "# Load data"
      ]
    },
    {
      "cell_type": "code",
      "execution_count": 2,
      "metadata": {},
      "outputs": [],
      "source": [
        "# Here we load the Experiment Table from each quantifier\n",
        "# The Experiment Table contains every exectuion + results\n",
        "# from the algorithm.\n",
        "def load_experiment_tables():\n",
        "    exp_tables_dict = {key: None for key in ['CC', 'ACC', 'PACC', 'PCC', 'SMM', 'HDy', 'DyS', 'SORD', 'MS', 'MS2', 'MAX', 'X']}\n",
        "        \n",
        "    for key in exp_tables_dict.keys():\n",
        "        if os.path.isfile(experiment_tables_path + 'experiment_table_' + key + '.csv'):\n",
        "            exp_tables_dict[key] = pd.read_csv(experiment_tables_path + 'experiment_table_' + key + '.csv')\n",
        "        else:\n",
        "            exp_tables_dict[key] = pd.DataFrame(columns=['dataset_name', 'alpha', 'sample_size', 'real_p', 'pred_p', 'abs_error', 'run_time'])\n",
        "    \n",
        "    return exp_tables_dict\n",
        "\n",
        "experiment_tables_dict = load_experiment_tables()\n",
        "df_dict = {key: None for key in list(experiment_tables_dict.keys())}\n",
        "\n",
        "\n",
        "for key in experiment_tables_dict:\n",
        "    df_dict[key] = experiment_tables_dict[key].groupby('dataset_name')['abs_error'].aggregate('mean')\n",
        "\n",
        "meta_features_table = pd.read_csv('./metafeatures/meta-features-table.csv')\n",
        "\n",
        "algList = []\n",
        "tableList = []\n",
        "for counter in df_dict.keys():\n",
        "    algList.append(counter)\n",
        "\n",
        "    y = df_dict[counter].values\n",
        "\n",
        "    X = meta_features_table.values\n",
        "    np.nan_to_num(X, copy=False)\n",
        "    \n",
        "    row, column = np.where(X > np.finfo(np.float32).max)\n",
        "    for i in range(len(row)):\n",
        "        X[row[i]][column[i]] = np.finfo(np.float32).max\n",
        "\n",
        "    tableList.append((X, y))\n",
        "\n",
        "processed_datasets_df = pd.read_csv('./experiment_tables/processed_datasets.csv')\n",
        "datasets = processed_datasets_df['dataset'].tolist()\n",
        "\n",
        "for key in df_dict.keys():\n",
        "    df = pd.DataFrame({'MAE': df_dict[key].to_list(), 'Dataset': datasets})\n",
        "    df.to_csv('./experiment_tables/summarized/experiment_table_' + str(key) + '.csv', index = False)\n",
        "processed_datasets_df = pd.read_csv('./experiment_tables/processed_datasets.csv')"
      ]
    },
    {
      "cell_type": "markdown",
      "metadata": {
        "id": "5826ga0UUBL3"
      },
      "source": [
        "# Train & test recommender with Leave-one-out"
      ]
    },
    {
      "cell_type": "markdown",
      "metadata": {},
      "source": [
        "This code evaluates the recommender (regressor) with Leave-one-out"
      ]
    },
    {
      "cell_type": "code",
      "execution_count": 3,
      "metadata": {
        "colab": {
          "base_uri": "https://localhost:8080/",
          "height": 495
        },
        "id": "BhZgNrPltXXr",
        "outputId": "d2f965f0-c904-4104-e02c-f65bf0392c45"
      },
      "outputs": [],
      "source": [
        "# # Regressor ~ Recommender\n",
        "# rf_reg = RandomForestRegressor()\n",
        "\n",
        "# instance_len = len(tableList[0][0])\n",
        "# rf_results = {}\n",
        "\n",
        "# # tableList contains the meta-table (X, y) from \n",
        "# # each quantifier\n",
        "# #\n",
        "# # this loop will train and test the RF regressor (recommender)\n",
        "# # using the meta-table (X, y) with Leave-One-Out\n",
        "# j = 0\n",
        "# for (X, y) in tableList:\n",
        "#   rf_results_list = []\n",
        "#   algName = algList[j]\n",
        "#   j += 1\n",
        "\n",
        "#   # LEAVE-ONE-OUT\n",
        "#   for i in range(0, len(X)):\n",
        "#     X_train = np.delete(X, i, 0)\n",
        "#     y_train = np.delete(y, i, 0)\n",
        "\n",
        "#     X_test = X[i]\n",
        "#     X_test = X_test.reshape(1, -1)\n",
        "#     y_test = y[i]\n",
        "\n",
        "#     rf_reg.fit(X_train, y_train)\n",
        "  \n",
        "#     rf_abs_error = rf_reg.predict(X_test)\n",
        "\n",
        "\n",
        "#     rf_results_list.append([y_test, rf_abs_error[0]])\n",
        "\n",
        "\n",
        "#   rf_results[algName] = rf_results_list\n",
        "\n",
        "\n",
        "# # A results table (named 'recommendation table') is constructed\n",
        "# # for the regressor (recommender)\n",
        "\n",
        "# # # # RANDOM FORESTS\n",
        "# # # #\n",
        "# data = []\n",
        "# cols = []\n",
        "# for key in rf_results:\n",
        "#   cols.append('abs-error-'+key)\n",
        "#   cols.append('abs-error-'+key+'-predicted')\n",
        "# cols.append('abs-error-ideal')\n",
        "# cols.append('quantifier-ideal')\n",
        "# cols.append('quantifier-ideal-num')\n",
        "# cols.append('abs-error-recommended')\n",
        "# cols.append('quantifier-recommended')\n",
        "# cols.append('quantifier-recommended-num')\n",
        "# i = 1\n",
        "# for key in rf_results:\n",
        "#     cols.append('rank-' + str(i))\n",
        "#     i += 1\n",
        "\n",
        "\n",
        "# i = 0\n",
        "# for i in range(0, instance_len):\n",
        "#   abs_error_ideal = 2\n",
        "#   quantifier_ideal = 'NULL'\n",
        "#   quantifier_ideal_num = -1\n",
        "#   abs_error_recommended = 2\n",
        "#   quantifier_recommended = 'NULL'\n",
        "#   quantifier_recommended_num = -1\n",
        "#   row = []\n",
        "#   algNum = 0\n",
        "#   rank = {}\n",
        "\n",
        "#   for a in algList:\n",
        "#     row.append(rf_results[a][i][0])\n",
        "#     row.append(rf_results[a][i][1])\n",
        "\n",
        "#     rank[algNum] = rf_results[a][i][1]\n",
        "\n",
        "#     if rf_results[a][i][0] < abs_error_ideal:\n",
        "#       abs_error_ideal = rf_results[a][i][0]\n",
        "#       quantifier_ideal = a\n",
        "#       quantifier_ideal_num = algNum\n",
        "\n",
        "#     if rf_results[a][i][1] < abs_error_recommended:\n",
        "#       abs_error_recommended = rf_results[a][i][1]\n",
        "#       quantifier_recommended = a\n",
        "#       quantifier_recommended_num = algNum\n",
        "\n",
        "#     algNum += 1\n",
        "#   rank = sorted(rank.items(), key=lambda item: item[1])\n",
        "\n",
        "#   row.append(abs_error_ideal)\n",
        "#   row.append(quantifier_ideal)\n",
        "#   row.append(quantifier_ideal_num)\n",
        "#   row.append(abs_error_recommended)\n",
        "#   row.append(quantifier_recommended)\n",
        "#   row.append(quantifier_recommended_num)\n",
        "#   for key in rank:\n",
        "#     row.append(int(key[0]))\n",
        "\n",
        "#   data.append(row)\n",
        "\n",
        "# rf_table = pd.DataFrame(data, columns = cols)\n",
        "\n",
        "# # # This line saves the results of the leaven-one-out evaluation of the recommender:\n",
        "# # rf_table.to_csv(\"./recommendation/recommendation_table_rf.csv\", index = False)"
      ]
    },
    {
      "cell_type": "markdown",
      "metadata": {},
      "source": [
        "# Load Recommendation Table"
      ]
    },
    {
      "cell_type": "code",
      "execution_count": 4,
      "metadata": {},
      "outputs": [],
      "source": [
        "# We load the Recommendation Table generated in the previous step\n",
        "rf_table = pd.read_csv(\"./recommendation/recommendation_table_rf.csv\")"
      ]
    },
    {
      "cell_type": "markdown",
      "metadata": {},
      "source": [
        "# Friedmann Test + Posthoc with Holm Procedure"
      ]
    },
    {
      "cell_type": "markdown",
      "metadata": {},
      "source": [
        "This code constructs the optimal quantifier sets for each dataset using a non-parametric Friedmann Test + Posthoc with Holm Procedure"
      ]
    },
    {
      "cell_type": "code",
      "execution_count": 5,
      "metadata": {},
      "outputs": [],
      "source": [
        "# optimal_dict -> for each dataset (key) there is a set of optimal (adequate) quantifiers (for that problem)\n",
        "# \n",
        "# test_dict -> for each dataset (key) there is a dataframe containing the MAE of each quantifier in that problem\n",
        "# (you can run this code and print 'test_dict' for clarification)\n",
        "test_dict = {}\n",
        "optimal_dict = {}\n",
        "for d in datasets:\n",
        "    test_dict[d.split('.csv')[0]] = None\n",
        "    optimal_dict[d.split('.csv')[0]] = None\n",
        "\n",
        "for dataset in test_dict.keys():\n",
        "    quantifier_error_dict = {key: [] for key in algList}\n",
        "\n",
        "    for alg in algList:\n",
        "        temp_df = experiment_tables_dict[alg].loc[experiment_tables_dict[alg]['dataset_name'] == dataset]\n",
        "        temp_df = temp_df.groupby('alpha').mean(numeric_only = True)\n",
        "        temp_df = temp_df.reset_index()\n",
        "        quantifier_error_dict[alg] = temp_df['abs_error'].tolist()\n",
        "        \n",
        "    test_dict[dataset] = pd.DataFrame()\n",
        "    for key in quantifier_error_dict.keys():\n",
        "        test_dict[dataset][key] = quantifier_error_dict[key]\n",
        "\n",
        "# Here we construct the optimal quantifier set for each dataset\n",
        "#\n",
        "# The best quantifier is selected (lower error) and then every quantifier\n",
        "# that is similar is also included (through a Friedmann Test + Posthoc with Holm Procedure)\n",
        "test_index = 0\n",
        "for dataset in test_dict.keys():\n",
        "    groups = []\n",
        "    for counter in test_dict[dataset].columns.tolist():\n",
        "        groups.append(test_dict[dataset][counter].tolist())\n",
        "    res = friedmanchisquare(*groups)\n",
        "    if res.pvalue < 0.05:\n",
        "        # HOLM\n",
        "        best = test_dict[dataset].mean().sort_values().index[0]\n",
        "        best_index = test_dict[dataset].columns.tolist().index(best)\n",
        "        opt_set = set()\n",
        "        opt_set.add(best)\n",
        "\n",
        "        res = posthoc_ttest(groups, p_adjust='holm')\n",
        "        \n",
        "        index = 0\n",
        "        for element in res[best_index+1]:\n",
        "            if element >= 0.05:\n",
        "                opt_set.add(test_dict[dataset].columns.tolist()[index])\n",
        "            index += 1\n",
        "        \n",
        "        optimal_dict[dataset] = opt_set\n",
        "    else:\n",
        "        optimal_dict[dataset] = set(algList)"
      ]
    },
    {
      "cell_type": "markdown",
      "metadata": {},
      "source": [
        "# Topline"
      ]
    },
    {
      "cell_type": "markdown",
      "metadata": {},
      "source": [
        "This code creates the Topline Experiment Table.\n",
        "\n",
        "The Topline is the ideal case, which would happen if we choose the best algorithm for every dataset."
      ]
    },
    {
      "cell_type": "code",
      "execution_count": 6,
      "metadata": {},
      "outputs": [],
      "source": [
        "topline_experiment_table = pd.DataFrame(columns=['MAE', 'Dataset'])\n",
        "\n",
        "# Load every dataset (by name)\n",
        "dt_list = []\n",
        "for d in datasets:\n",
        "    dt_list.append(d.split('.csv')[0])\n",
        "\n",
        "# Get all the Ideal Quantifiers from the Recommendation Table\n",
        "rows = rf_table['quantifier-ideal'].to_list()\n",
        "topline_error_list = []\n",
        "\n",
        "# Include in the Experiment Table the MAE of the 'Topline' Quantifier, which would be the best quantifier\n",
        "# for that specific dataset\n",
        "i = 0\n",
        "for r in rows:\n",
        "    topline_experiment_table.loc[len(topline_experiment_table)] = [rf_table.loc[i]['abs-error-' + r], dt_list[i]]\n",
        "    i += 1\n",
        "\n",
        "# Save the resulting Experiment Table\n",
        "topline_experiment_table.to_csv('./experiment_tables/summarized/experiment_table_TOPLINE.csv', index=False)"
      ]
    },
    {
      "cell_type": "markdown",
      "metadata": {},
      "source": [
        "# Construction of the Top-K sets + weights"
      ]
    },
    {
      "cell_type": "markdown",
      "metadata": {},
      "source": [
        "This code creates two dictionaries that are important for the next steps:\n",
        "\n",
        "(1) rf_top_dict:\n",
        "\n",
        "      For each dataset (dictonary key) there is a set of the top-K quantifiers for that dataset (dictonary value).\n",
        "      This is important to calculate the Hit Rate, by comparing the top-K set with the optimal set.\n",
        "\n",
        "(2) rf_ensemble_top_dict:\n",
        "\n",
        "      For each dataset (dictionary key) there is a list containing the Top-K (i) quantifiers and (ii) their respective weights\n",
        "      This is important for the Top-K Weighted Ensemble Approach, since we need to know the Top-K quantifiers + their respective\n",
        "      weights. For the Top-K Ensemble Approach (not using weights), we only use the Top-K quantifiers (and then we calculate the\n",
        "      mean or median of their estimations).\n",
        "\n",
        "You can run this code and print \"rf_top_dict\" and \"rf_ensemble_top_dict\" for better clarification"
      ]
    },
    {
      "cell_type": "code",
      "execution_count": 7,
      "metadata": {},
      "outputs": [],
      "source": [
        "dt_list = []\n",
        "for d in datasets:\n",
        "    dt_list.append(d.split('.csv')[0])\n",
        "\n",
        "rf_top_dict = {key: None for key in dt_list}\n",
        "\n",
        "rf_ensemble_top_dict = {}\n",
        "for key in dt_list:\n",
        "    rf_ensemble_top_dict[key] = []\n",
        "\n",
        "\n",
        "\n",
        "# This little variable controls the K in the top-K\n",
        "top = 5\n",
        "\n",
        "\n",
        "\n",
        "index = 0\n",
        "for dataset in rf_top_dict.keys():\n",
        "    quantifier_set = set()\n",
        "    ensemble_quantifier_list = []\n",
        "    ensemble_error_list = []\n",
        "    for i in range(0, top):\n",
        "        quantifier = random.choice(algList)\n",
        "        quantifier_set.add(quantifier)\n",
        "        ensemble_quantifier_list.append(quantifier)\n",
        "        ensemble_error_list.append(rf_table.loc[index]['abs-error-'+quantifier+'-predicted'])\n",
        "    rf_top_dict[dataset] = quantifier_set\n",
        "    \n",
        "    ensemble_numerator_list = []\n",
        "    denominator = 0\n",
        "    for error in ensemble_error_list:\n",
        "        denominator += 1/error\n",
        "        ensemble_numerator_list.append( 1/error )\n",
        "    \n",
        "    ensemble_weight_list = []\n",
        "    for numerator in ensemble_numerator_list:\n",
        "        ensemble_weight_list.append( numerator / denominator )\n",
        "\n",
        "    rf_ensemble_top_dict[dataset].append(ensemble_quantifier_list)\n",
        "    rf_ensemble_top_dict[dataset].append(ensemble_weight_list)\n",
        "    \n",
        "    index += 1"
      ]
    },
    {
      "cell_type": "markdown",
      "metadata": {},
      "source": [
        "# Top-K Ensemble HitRate"
      ]
    },
    {
      "cell_type": "markdown",
      "metadata": {},
      "source": [
        "Generate the HitRate for the Top-K ensemble and save to the Recommender Hit Table"
      ]
    },
    {
      "cell_type": "code",
      "execution_count": 8,
      "metadata": {},
      "outputs": [],
      "source": [
        "rf_top_hit_list = []\n",
        "index = 0\n",
        "for dataset in dt_list:\n",
        "    # if A_recommendation_set INTERSECTION A_optimal_set is not NULL, then a Hit is attributed\n",
        "    if len(rf_top_dict[dataset].intersection(optimal_dict[dataset])) != 0:\n",
        "        rf_top_hit_list.append(1)\n",
        "    else:\n",
        "        rf_top_hit_list.append(0)\n",
        "    index += 1\n",
        "\n",
        "rf_top_hit_rate = np.mean(rf_top_hit_list)\n",
        "\n",
        "\n",
        "# Save the HitRate to the Recommender Hit Table\n",
        "temp_table = pd.read_csv('./recommender_hit_table/recommender_hit_rate_table.csv')\n",
        "temp_table.loc[len(temp_table)] = ['BASELINE+RANDOM+Top'+str(top), rf_top_hit_rate]\n",
        "# temp_table.to_csv('./recommender_hit_table/recommender_hit_rate_table_BASELINE.csv', index=False)"
      ]
    },
    {
      "cell_type": "code",
      "execution_count": 9,
      "metadata": {},
      "outputs": [
        {
          "data": {
            "text/html": [
              "<div>\n",
              "<style scoped>\n",
              "    .dataframe tbody tr th:only-of-type {\n",
              "        vertical-align: middle;\n",
              "    }\n",
              "\n",
              "    .dataframe tbody tr th {\n",
              "        vertical-align: top;\n",
              "    }\n",
              "\n",
              "    .dataframe thead th {\n",
              "        text-align: right;\n",
              "    }\n",
              "</style>\n",
              "<table border=\"1\" class=\"dataframe\">\n",
              "  <thead>\n",
              "    <tr style=\"text-align: right;\">\n",
              "      <th></th>\n",
              "      <th>Method</th>\n",
              "      <th>HitRate</th>\n",
              "    </tr>\n",
              "  </thead>\n",
              "  <tbody>\n",
              "    <tr>\n",
              "      <th>0</th>\n",
              "      <td>Random Forests+Top1</td>\n",
              "      <td>0.766917</td>\n",
              "    </tr>\n",
              "    <tr>\n",
              "      <th>1</th>\n",
              "      <td>XGBOOST+Top1</td>\n",
              "      <td>0.759398</td>\n",
              "    </tr>\n",
              "    <tr>\n",
              "      <th>2</th>\n",
              "      <td>SVM+Top1</td>\n",
              "      <td>0.759398</td>\n",
              "    </tr>\n",
              "    <tr>\n",
              "      <th>3</th>\n",
              "      <td>Random Forests+Top3</td>\n",
              "      <td>0.917293</td>\n",
              "    </tr>\n",
              "    <tr>\n",
              "      <th>4</th>\n",
              "      <td>XGBOOST+Top3</td>\n",
              "      <td>0.924812</td>\n",
              "    </tr>\n",
              "    <tr>\n",
              "      <th>5</th>\n",
              "      <td>SVM+Top3</td>\n",
              "      <td>0.887218</td>\n",
              "    </tr>\n",
              "    <tr>\n",
              "      <th>6</th>\n",
              "      <td>Random Forests+Top5</td>\n",
              "      <td>0.947368</td>\n",
              "    </tr>\n",
              "    <tr>\n",
              "      <th>7</th>\n",
              "      <td>XGBOOST+Top5</td>\n",
              "      <td>0.969925</td>\n",
              "    </tr>\n",
              "    <tr>\n",
              "      <th>8</th>\n",
              "      <td>SVM+Top5</td>\n",
              "      <td>0.954887</td>\n",
              "    </tr>\n",
              "    <tr>\n",
              "      <th>9</th>\n",
              "      <td>Random Forests+Top3+Weighted (ENSEMBLE)</td>\n",
              "      <td>0.917293</td>\n",
              "    </tr>\n",
              "    <tr>\n",
              "      <th>10</th>\n",
              "      <td>XGBOOST+Top3+Weighted (ENSEMBLE)</td>\n",
              "      <td>0.924812</td>\n",
              "    </tr>\n",
              "    <tr>\n",
              "      <th>11</th>\n",
              "      <td>SVM+Top3+Weighted (ENSEMBLE)</td>\n",
              "      <td>0.887218</td>\n",
              "    </tr>\n",
              "    <tr>\n",
              "      <th>12</th>\n",
              "      <td>Random Forests+Top5+Weighted (ENSEMBLE)</td>\n",
              "      <td>0.947368</td>\n",
              "    </tr>\n",
              "    <tr>\n",
              "      <th>13</th>\n",
              "      <td>XGBOOST+Top5+Weighted (ENSEMBLE)</td>\n",
              "      <td>0.969925</td>\n",
              "    </tr>\n",
              "    <tr>\n",
              "      <th>14</th>\n",
              "      <td>SVM+Top5+Weighted (ENSEMBLE)</td>\n",
              "      <td>0.954887</td>\n",
              "    </tr>\n",
              "    <tr>\n",
              "      <th>15</th>\n",
              "      <td>Topline</td>\n",
              "      <td>1.000000</td>\n",
              "    </tr>\n",
              "    <tr>\n",
              "      <th>16</th>\n",
              "      <td>BASELINE+RANDOM+Top5</td>\n",
              "      <td>0.894737</td>\n",
              "    </tr>\n",
              "  </tbody>\n",
              "</table>\n",
              "</div>"
            ],
            "text/plain": [
              "                                     Method   HitRate\n",
              "0                       Random Forests+Top1  0.766917\n",
              "1                              XGBOOST+Top1  0.759398\n",
              "2                                  SVM+Top1  0.759398\n",
              "3                       Random Forests+Top3  0.917293\n",
              "4                              XGBOOST+Top3  0.924812\n",
              "5                                  SVM+Top3  0.887218\n",
              "6                       Random Forests+Top5  0.947368\n",
              "7                              XGBOOST+Top5  0.969925\n",
              "8                                  SVM+Top5  0.954887\n",
              "9   Random Forests+Top3+Weighted (ENSEMBLE)  0.917293\n",
              "10         XGBOOST+Top3+Weighted (ENSEMBLE)  0.924812\n",
              "11             SVM+Top3+Weighted (ENSEMBLE)  0.887218\n",
              "12  Random Forests+Top5+Weighted (ENSEMBLE)  0.947368\n",
              "13         XGBOOST+Top5+Weighted (ENSEMBLE)  0.969925\n",
              "14             SVM+Top5+Weighted (ENSEMBLE)  0.954887\n",
              "15                                  Topline  1.000000\n",
              "16                     BASELINE+RANDOM+Top5  0.894737"
            ]
          },
          "execution_count": 9,
          "metadata": {},
          "output_type": "execute_result"
        }
      ],
      "source": [
        "temp_table"
      ]
    },
    {
      "cell_type": "markdown",
      "metadata": {},
      "source": [
        "# Top-K Ensemble"
      ]
    },
    {
      "cell_type": "markdown",
      "metadata": {},
      "source": [
        "This code constructs the top-K ensemble method\n",
        "\n",
        "Each recommender predicts a MAE for their specific quantifier\n",
        "\n",
        "Quantifiers are then ordered by their MAE (crescent order)\n",
        "\n",
        "The Top-k are selected and are used to give their own estimates of the class prevalence {p_1, ..., p_k}\n",
        "\n",
        "The \"final\" prevalence is the mean OR median (we use both approaches) of the k estimations\n",
        "\n",
        "Then, the absolute error of our approach (mean or median) is calculated -> ABSOLUTE(real_prevalence - estimated_prevalence)"
      ]
    },
    {
      "cell_type": "code",
      "execution_count": 10,
      "metadata": {},
      "outputs": [],
      "source": [
        "top_k_experiment_table_mean = pd.DataFrame(columns=['MAE', 'Dataset'])\n",
        "top_k_experiment_table_median = pd.DataFrame(columns=['MAE', 'Dataset'])\n",
        "\n",
        "dt_list = []\n",
        "for d in datasets:\n",
        "    dt_list.append(d.split('.csv')[0])\n",
        "\n",
        "index = 0\n",
        "for item in rf_top_dict.items():\n",
        "    quantifiers_set = item[1]\n",
        "    \n",
        "    pred_p_mean = [0] * 20\n",
        "    temp_pred_p_median = [ [] for _ in range(20) ]\n",
        "    pred_p_median = []\n",
        "    real_p = None\n",
        "    for x in quantifier_set:\n",
        "        # Get the real_p (prevalence) of the dataset and the predicted_p (prevalence) by the quantifier\n",
        "        real_p = experiment_tables_dict[x].loc[experiment_tables_dict[x]['dataset_name'] == dt_list[index]].groupby('alpha').mean(numeric_only=True)['real_p'].values.tolist()\n",
        "        pred_p = experiment_tables_dict[x].loc[experiment_tables_dict[x]['dataset_name'] == dt_list[index]].groupby('alpha').mean(numeric_only=True)['pred_p'].values.tolist()\n",
        "        for i in range(0, len(real_p)):\n",
        "            pred_p_mean[i] += pred_p[i]\n",
        "            temp_pred_p_median[i].append(pred_p[i])\n",
        "    \n",
        "    # The \"final\" prevalence will be the mean or median of each estimated prevalence by each quantifier\n",
        "    for i in range(0, len(pred_p_mean)):\n",
        "        pred_p_mean[i] /= len(quantifier_set)\n",
        "        pred_p_median.append(np.median(temp_pred_p_median[i]))\n",
        "    \n",
        "    abs_error_mean_list = []\n",
        "    abs_error_median_list = []\n",
        "    for i in range(0, len(pred_p_mean)):\n",
        "        abs_error_mean_list.append(abs(real_p[i] - pred_p_mean[i]))\n",
        "        abs_error_median_list.append(abs(real_p[i] - pred_p_median[i]))\n",
        "    abs_error_mean = np.mean(abs_error_mean_list)\n",
        "    abs_error_median = np.mean(abs_error_median_list)\n",
        "\n",
        "    top_k_experiment_table_mean.loc[len(top_k_experiment_table_mean)] = [abs_error_mean, dt_list[index]]\n",
        "    top_k_experiment_table_median.loc[len(top_k_experiment_table_median)] = [abs_error_median, dt_list[index]]\n",
        "    # experiment_table.loc[len(experiment_table)] = ['Random Forests+Top'+str(top)+' (MEAN)', dt_list[index], abs_error_mean]\n",
        "    # experiment_table.loc[len(experiment_table)] = ['Random Forests+Top'+str(top)+' (MEDIAN)', dt_list[index], abs_error_median]\n",
        "\n",
        "    index += 1\n",
        "\n",
        "if top == 1:\n",
        "    top_k_experiment_table_mean.to_csv('./experiment_tables/summarized/experiment_table_TOP'+str(top)+'.csv', index=False)\n",
        "else:\n",
        "    top_k_experiment_table_mean.to_csv('./experiment_tables/summarized/experiment_table_TOP'+str(top)+'_MEAN_BASELINE_RANDOM.csv', index=False)\n",
        "    top_k_experiment_table_median.to_csv('./experiment_tables/summarized/experiment_table_TOP'+str(top)+'_MEDIAN_BASELINE_RANDOM.csv', index=False)"
      ]
    },
    {
      "cell_type": "markdown",
      "metadata": {},
      "source": [
        "# Top-K Weighted Ensemble"
      ]
    },
    {
      "cell_type": "markdown",
      "metadata": {},
      "source": [
        "This code implements the weighted top-K ensemble method\n",
        "\n",
        "Each recommender predicts a MAE for their specific quantifier\n",
        "\n",
        "Quantifiers are then ordered by their MAE (crescent order)\n",
        "\n",
        "A weight is attributed to each quantifier based on their MAE. The lower the MAE, the bigger the weight. The first quantifier (Top-1) has the biggest weight, the second (Top-2) has the seccond biggest weight, and so on.\n",
        "\n",
        "ALL of the weights sum up to one -> weight_quantifier_1 + weight_quantifier_2 + ... + weight_quantifier_k = 1\n",
        "\n",
        "The Top-k are selected and are used to give it's own estimate of the class prevalence {p_1, ..., p_k}\n",
        "\n",
        "The \"final\" prevalence is the sum of the k estimations multiplied by their respective weight:\n",
        "\n",
        "prevalence_estimation = weight_quantifier_1 * prevalence_quantifier_1 + ... + weight_quantifier_k * prevalence_quantifier_k\n",
        "\n",
        "Then, the absolute error of our approach is calculated -> ABSOLUTE(real_prevalence - estimated_prevalence)"
      ]
    },
    {
      "cell_type": "code",
      "execution_count": 11,
      "metadata": {},
      "outputs": [],
      "source": [
        "top_k_weighted_experiment_table = pd.DataFrame(columns=['MAE', 'Dataset'])\n",
        "\n",
        "dt_list = []\n",
        "for d in datasets:\n",
        "    dt_list.append(d.split('.csv')[0])\n",
        "\n",
        "index = 0\n",
        "for item in rf_ensemble_top_dict.items():\n",
        "    quantifier_list = item[1][0]\n",
        "    weight_list = item[1][1]\n",
        "    prevalence_list = [0] * 20\n",
        "\n",
        "    real_p = None\n",
        "    for x in quantifier_list:\n",
        "        # Get the real_p (prevalence) of the dataset and the predicted_p (prevalence) by the quantifier\n",
        "        real_p = experiment_tables_dict[x].loc[experiment_tables_dict[x]['dataset_name'] == dt_list[index]].groupby('alpha').mean(numeric_only=True)['real_p'].values.tolist()\n",
        "        pred_p = experiment_tables_dict[x].loc[experiment_tables_dict[x]['dataset_name'] == dt_list[index]].groupby('alpha').mean(numeric_only=True)['pred_p'].values.tolist()\n",
        "        \n",
        "        # The \"final\" prevalence will be the prevalences of the K quantifiers adjusted by their weights.\n",
        "        # Note that pred_p has 20 prevalences, since we test a quantifier on a dataset 20 times (varying the class distribution).\n",
        "        for i in range(0, len(pred_p)):\n",
        "            prevalence_list[i] += pred_p[i] * weight_list[quantifier_list.index(x)]\n",
        "    \n",
        "    ensemble_abs_error_list = []\n",
        "    for i in range(0, len(prevalence_list)):\n",
        "        ensemble_abs_error_list.append( abs( real_p[i] - prevalence_list[i] ) )\n",
        "\n",
        "    ensemble_abs_error = np.mean(ensemble_abs_error_list)\n",
        "    \n",
        "    top_k_weighted_experiment_table.loc[len(top_k_weighted_experiment_table)] = [ensemble_abs_error, dt_list[index]]\n",
        "    # experiment_table.loc[len(experiment_table)] = ['Random Forests+Top'+str(top)+'+Weighted (ENSEMBLE)', dt_list[index], ensemble_abs_error]\n",
        "    index += 1\n",
        "\n",
        "if top != 1: \n",
        "    top_k_weighted_experiment_table.to_csv('./experiment_tables/summarized/experiment_table_TOP'+str(top)+'_WEIGHTED_BASELINE_RANDOM.csv', index=False)"
      ]
    },
    {
      "cell_type": "markdown",
      "metadata": {},
      "source": [
        "# Unify all the Experiment Tables"
      ]
    },
    {
      "cell_type": "markdown",
      "metadata": {},
      "source": [
        "In the previous steps, we created Experiment Tables for each quantifier. The experiment tables for our Top-K approach were created here, while the experiment tables for the other quantifiers were created in the APP function and were summarized here (refer to 'summarized' folder).\n",
        "\n",
        "Now we are going to unify all these experiment tables into a single Experiment Table (even more summarized) consisting of a DataFrame containing (1) the method (algorithm), (2) the Dataset name and (3) MAE.\n",
        "\n",
        "This is just to facilitate our analysis and to condense all the results to a single file."
      ]
    },
    {
      "cell_type": "code",
      "execution_count": 12,
      "metadata": {},
      "outputs": [],
      "source": [
        "# The 'even more summarized' Experiment Table containts only the Method, Dataset and MAE\n",
        "even_more_summarized_experiment_table = pd.DataFrame(columns=['Method', 'Dataset', 'MAE'])\n",
        "\n",
        "dt_list = []\n",
        "for d in datasets:\n",
        "    dt_list.append(d.split('.csv')[0])\n",
        "\n",
        "for filename in os.listdir('./experiment_tables/summarized/'):\n",
        "    # We load each experiment table\n",
        "    df = pd.read_csv('./experiment_tables/summarized/'+filename)\n",
        "    \n",
        "    method_name = filename.split('experiment_table_')[1].split('.csv')[0]\n",
        "    method_name = method_name.replace('_', '+')\n",
        "    \n",
        "    # And then we include each row in the 'even more summarized' one\n",
        "    index = 0\n",
        "    for row in df.iterrows():\n",
        "        even_more_summarized_experiment_table.loc[len(even_more_summarized_experiment_table)] = [method_name, dt_list[index], row[1]['MAE']]\n",
        "        index += 1\n",
        "\n",
        "# Save the resulting 'even more summarized' experiment table\n",
        "# even_more_summarized_experiment_table.to_csv('./experiment_tables/even_more_summarized/experiment_table.csv', index=False)\n",
        "even_more_summarized_experiment_table.to_csv('./experiment_tables/even_more_summarized/experiment_table_WITH_BASELINE_RANDOM.csv', index=False)"
      ]
    },
    {
      "cell_type": "markdown",
      "metadata": {},
      "source": [
        "# TEST"
      ]
    },
    {
      "cell_type": "code",
      "execution_count": 16,
      "metadata": {},
      "outputs": [],
      "source": [
        "experiment_table_ORIGINAL = pd.read_csv('./experiment_tables/even_more_summarized/experiment_table_ORIGINAL.csv')"
      ]
    },
    {
      "cell_type": "code",
      "execution_count": 17,
      "metadata": {},
      "outputs": [
        {
          "data": {
            "text/plain": [
              "array(['CC', 'ACC', 'PACC', 'PCC', 'SMM', 'HDy', 'DyS', 'SORD', 'MS',\n",
              "       'MS2', 'MAX', 'X', 'Random Forests+Top3 (MEAN)',\n",
              "       'Random Forests+Top3 (MEDIAN)', 'XGBOOST+Top3 (MEAN)',\n",
              "       'XGBOOST+Top3 (MEDIAN)', 'SVM+Top3 (MEAN)', 'SVM+Top3 (MEDIAN)',\n",
              "       'Random Forests+Top5 (MEAN)', 'Random Forests+Top5 (MEDIAN)',\n",
              "       'XGBOOST+Top5 (MEAN)', 'XGBOOST+Top5 (MEDIAN)', 'SVM+Top5 (MEAN)',\n",
              "       'SVM+Top5 (MEDIAN)', 'Random Forests+Top1', 'XGBOOST+Top1',\n",
              "       'SVM+Top1', 'Random Forests+Top3+Weighted (ENSEMBLE)',\n",
              "       'XGBOOST+Top3+Weighted (ENSEMBLE)', 'SVM+Top3+Weighted (ENSEMBLE)',\n",
              "       'Random Forests+Top5+Weighted (ENSEMBLE)',\n",
              "       'XGBOOST+Top5+Weighted (ENSEMBLE)', 'SVM+Top5+Weighted (ENSEMBLE)',\n",
              "       'Topline'], dtype=object)"
            ]
          },
          "execution_count": 17,
          "metadata": {},
          "output_type": "execute_result"
        }
      ],
      "source": [
        "experiment_table_ORIGINAL['Method'].unique()"
      ]
    },
    {
      "cell_type": "code",
      "execution_count": 14,
      "metadata": {},
      "outputs": [
        {
          "data": {
            "text/plain": [
              "array(['ACC', 'CC', 'DyS', 'HDy', 'MAX', 'MS', 'MS2', 'PACC', 'PCC',\n",
              "       'SMM', 'SORD', 'TOP1', 'TOP3+MEAN', 'TOP3+MEAN+BASELINE',\n",
              "       'TOP3+MEAN+BASELINE+RANDOM', 'TOP3+MEDIAN', 'TOP3+MEDIAN+BASELINE',\n",
              "       'TOP3+MEDIAN+BASELINE+RANDOM', 'TOP3+WEIGHTED',\n",
              "       'TOP3+WEIGHTED+BASELINE', 'TOP3+WEIGHTED+BASELINE+RANDOM',\n",
              "       'TOP5+MEAN', 'TOP5+MEAN+BASELINE', 'TOP5+MEAN+BASELINE+RANDOM',\n",
              "       'TOP5+MEDIAN', 'TOP5+MEDIAN+BASELINE',\n",
              "       'TOP5+MEDIAN+BASELINE+RANDOM', 'TOP5+WEIGHTED',\n",
              "       'TOP5+WEIGHTED+BASELINE', 'TOP5+WEIGHTED+BASELINE+RANDOM',\n",
              "       'TOPLINE', 'X'], dtype=object)"
            ]
          },
          "execution_count": 14,
          "metadata": {},
          "output_type": "execute_result"
        }
      ],
      "source": [
        "experiment_table_baseline = pd.read_csv('./experiment_tables/even_more_summarized/experiment_table_WITH_BASELINE_RANDOM.csv')\n",
        "\n",
        "experiment_table_baseline['Method'].unique()"
      ]
    },
    {
      "cell_type": "code",
      "execution_count": null,
      "metadata": {},
      "outputs": [],
      "source": [
        "experiment_table = pd.read_csv('./experiment_tables/even_more_summarized/experiment_table_2.csv')\n",
        "old_experiment_table = pd.read_csv('./experiment_tables/even_more_summarized/experiment_table_3.csv')"
      ]
    },
    {
      "cell_type": "code",
      "execution_count": null,
      "metadata": {},
      "outputs": [],
      "source": [
        "# old_experiment_table['Method'].replace({'Random Forests+Top1' : 'TOP1',\n",
        "#                                         'Random Forests+Top3 (MEAN)' : 'TOP3+MEAN',\n",
        "#                                         'Random Forests+Top3 (MEDIAN)' : 'TOP3+MEDIAN',\n",
        "#                                         'Random Forests+Top3+Weighted (ENSEMBLE)' : 'TOP3+WEIGHTED',\n",
        "#                                         'Random Forests+Top5 (MEAN)' : 'TOP5+MEAN',\n",
        "#                                         'Random Forests+TOP5 (MEDIAN)' : 'TOP5+MEDIAN',\n",
        "#                                         'Random Forests+Top5+Weighted (ENSEMBLE)' : 'TOP5+WEIGHTED',\n",
        "#                                         'Topline' : 'TOPLINE'}, inplace=True)"
      ]
    },
    {
      "cell_type": "code",
      "execution_count": null,
      "metadata": {},
      "outputs": [],
      "source": [
        "for quantifier in experiment_table['Method'].unique().tolist():\n",
        "    print(quantifier + ' : ' + str(set(experiment_table.query(\"Method in ['\"+quantifier+\"']\")['MAE'].tolist()) == set(old_experiment_table.query(\"Method in ['\"+quantifier+\"']\")['MAE'].tolist())))"
      ]
    },
    {
      "cell_type": "code",
      "execution_count": null,
      "metadata": {},
      "outputs": [],
      "source": [
        "MAE_1 = experiment_table.query(\"Method in ['TOP1']\")['MAE'].tolist()\n",
        "MAE_2 = old_experiment_table.query(\"Method in ['TOP1']\")['MAE'].tolist()"
      ]
    },
    {
      "cell_type": "code",
      "execution_count": null,
      "metadata": {},
      "outputs": [],
      "source": [
        "MAE_1"
      ]
    },
    {
      "cell_type": "code",
      "execution_count": null,
      "metadata": {},
      "outputs": [],
      "source": [
        "i = 0\n",
        "for i in range(0, len(MAE_1)):\n",
        "    print(str(MAE_1[i]) + '\\t\\t|\\t\\t' + str(MAE_2[i]) + ' : ' + str(abs(MAE_1[i] - MAE_2[i])))\n"
      ]
    },
    {
      "cell_type": "code",
      "execution_count": null,
      "metadata": {},
      "outputs": [],
      "source": [
        "experiment_table['Method'].unique().tolist()"
      ]
    },
    {
      "cell_type": "code",
      "execution_count": null,
      "metadata": {},
      "outputs": [],
      "source": [
        "old_experiment_table['Method'].replace({'Random Forests+Top1' : 'TOP1',\n",
        "                                        'Random Forests+Top3 (MEAN)' : 'TOP3+MEAN',\n",
        "                                        'Random Forests+Top3 (MEDIAN)' : 'TOP3+MEDIAN',\n",
        "                                        'Random Forests+Top3+Weighted (ENSEMBLE)' : 'TOP3+WEIGHTED',\n",
        "                                        'Random Forests+Top5 (MEAN)' : 'TOP5+MEAN',\n",
        "                                        'Random Forests+TOP5 (MEDIAN)' : 'TOP5+MEDIAN',\n",
        "                                        'Random Forests+Top5+Weighted (ENSEMBLE)' : 'TOP5+WEIGHTED'}, inplace=True)"
      ]
    },
    {
      "cell_type": "code",
      "execution_count": null,
      "metadata": {},
      "outputs": [],
      "source": [
        "old_experiment_table['Method'].unique()"
      ]
    },
    {
      "cell_type": "code",
      "execution_count": null,
      "metadata": {},
      "outputs": [],
      "source": [
        "old_experiment_table.query(\"Method in ['CC']\")['MAE'].tolist()"
      ]
    }
  ],
  "metadata": {
    "colab": {
      "collapsed_sections": [
        "Mq8fYR6NY_7_",
        "txTPtjMCJTyg",
        "eHUI9P42ZC5o"
      ],
      "provenance": []
    },
    "kernelspec": {
      "display_name": "Python 3",
      "name": "python3"
    },
    "language_info": {
      "codemirror_mode": {
        "name": "ipython",
        "version": 3
      },
      "file_extension": ".py",
      "mimetype": "text/x-python",
      "name": "python",
      "nbconvert_exporter": "python",
      "pygments_lexer": "ipython3",
      "version": "3.12.4"
    }
  },
  "nbformat": 4,
  "nbformat_minor": 0
}
